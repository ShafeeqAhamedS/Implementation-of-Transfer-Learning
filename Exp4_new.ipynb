{
  "nbformat": 4,
  "nbformat_minor": 0,
  "metadata": {
    "colab": {
      "provenance": [],
      "gpuType": "T4"
    },
    "kernelspec": {
      "name": "python3",
      "display_name": "Python 3"
    },
    "language_info": {
      "name": "python"
    },
    "accelerator": "GPU",
    "gpuClass": "standard"
  },
  "cells": [
    {
      "cell_type": "code",
      "source": [
        "import pandas as pd\n",
        "import numpy as np\n",
        "from sklearn.model_selection import train_test_split\n",
        "from sklearn.metrics import classification_report,confusion_matrix\n",
        "\n",
        "from keras import Sequential\n",
        "from keras.layers import Flatten,Dense,BatchNormalization,Activation,Dropout\n",
        "from tensorflow.keras import utils\n",
        "from tensorflow.keras.optimizers import Adam\n",
        "from tensorflow.keras.callbacks import ReduceLROnPlateau\n",
        "\n",
        "from tensorflow.keras.preprocessing.image import ImageDataGenerator\n",
        "\n",
        "from keras.datasets import cifar10\n",
        "from tensorflow.keras.applications import VGG19"
      ],
      "metadata": {
        "id": "yNgBeazUoxem"
      },
      "execution_count": null,
      "outputs": []
    },
    {
      "cell_type": "code",
      "source": [
        "(x_train,y_train),(x_test,y_test)=cifar10.load_data()\n",
        "x_train = x_train.astype('float32') / 255.0\n",
        "x_test = x_test.astype('float32') / 255.0"
      ],
      "metadata": {
        "colab": {
          "base_uri": "https://localhost:8080/"
        },
        "id": "30YOeqtHoyo-",
        "outputId": "53d28df0-428f-4f2e-b010-99554cc568bf"
      },
      "execution_count": null,
      "outputs": [
        {
          "output_type": "stream",
          "name": "stdout",
          "text": [
            "Downloading data from https://www.cs.toronto.edu/~kriz/cifar-10-python.tar.gz\n",
            "170498071/170498071 [==============================] - 2s 0us/step\n"
          ]
        }
      ]
    },
    {
      "cell_type": "code",
      "source": [
        "base_model = VGG19(include_top=False, weights = \"imagenet\",\n",
        "                   input_shape = (32,32,3))\n",
        "\n",
        "for layer in base_model.layers:\n",
        "  layer.trainable = False"
      ],
      "metadata": {
        "colab": {
          "base_uri": "https://localhost:8080/"
        },
        "id": "4rhVBOeBo1mz",
        "outputId": "bfe55bcd-5d58-4505-9226-2abd20617316"
      },
      "execution_count": null,
      "outputs": [
        {
          "output_type": "stream",
          "name": "stdout",
          "text": [
            "Downloading data from https://storage.googleapis.com/tensorflow/keras-applications/vgg19/vgg19_weights_tf_dim_ordering_tf_kernels_notop.h5\n",
            "80134624/80134624 [==============================] - 0s 0us/step\n"
          ]
        }
      ]
    },
    {
      "cell_type": "code",
      "source": [
        "model = Sequential()\n",
        "model.add(base_model)\n",
        "model.add(Flatten())\n",
        "model.add(Dense(250,activation=(\"relu\")))\n",
        "model.add(Dropout(0.2))\n",
        "model.add(Dense(100,activation=(\"relu\")))\n",
        "model.add(Dropout(0.35))\n",
        "model.add(Dense(10,activation=(\"softmax\")))\n",
        "model.summary()"
      ],
      "metadata": {
        "colab": {
          "base_uri": "https://localhost:8080/"
        },
        "id": "9v_7JlEEpHjl",
        "outputId": "abd5b0b8-19f0-4f19-d49f-8d8a5318dc97"
      },
      "execution_count": null,
      "outputs": [
        {
          "output_type": "stream",
          "name": "stdout",
          "text": [
            "Model: \"sequential_7\"\n",
            "_________________________________________________________________\n",
            " Layer (type)                Output Shape              Param #   \n",
            "=================================================================\n",
            " vgg19 (Functional)          (None, 1, 1, 512)         20024384  \n",
            "                                                                 \n",
            " flatten_7 (Flatten)         (None, 512)               0         \n",
            "                                                                 \n",
            " dense_30 (Dense)            (None, 250)               128250    \n",
            "                                                                 \n",
            " dropout (Dropout)           (None, 250)               0         \n",
            "                                                                 \n",
            " dense_31 (Dense)            (None, 100)               25100     \n",
            "                                                                 \n",
            " dropout_1 (Dropout)         (None, 100)               0         \n",
            "                                                                 \n",
            " dense_32 (Dense)            (None, 10)                1010      \n",
            "                                                                 \n",
            "=================================================================\n",
            "Total params: 20,178,744\n",
            "Trainable params: 154,360\n",
            "Non-trainable params: 20,024,384\n",
            "_________________________________________________________________\n"
          ]
        }
      ]
    },
    {
      "cell_type": "code",
      "source": [
        "model.compile(optimizer=Adam(learning_rate=0.001), \n",
        "              loss='sparse_categorical_crossentropy', \n",
        "              metrics=['accuracy'])"
      ],
      "metadata": {
        "id": "EckePiPSpJba"
      },
      "execution_count": null,
      "outputs": []
    },
    {
      "cell_type": "code",
      "source": [
        "learning_rate_reduction = ReduceLROnPlateau(monitor='val_accuracy', \n",
        "                                            patience=3, \n",
        "                                            verbose=1, \n",
        "                                            factor=0.5, \n",
        "                                            min_lr=0.00001)\n",
        "\n",
        "model.fit(x_train, y_train, \n",
        "          batch_size=500, epochs=10, \n",
        "          validation_data=(x_test, y_test), \n",
        "          callbacks=[learning_rate_reduction])"
      ],
      "metadata": {
        "colab": {
          "base_uri": "https://localhost:8080/"
        },
        "id": "hiiTRPq3pPwz",
        "outputId": "9d44e99b-c721-4cd9-930c-d07da0ab6b4f"
      },
      "execution_count": null,
      "outputs": [
        {
          "output_type": "stream",
          "name": "stdout",
          "text": [
            "Epoch 1/10\n",
            "100/100 [==============================] - 13s 110ms/step - loss: 1.7906 - accuracy: 0.3642 - val_loss: 1.4374 - val_accuracy: 0.4931 - lr: 0.0010\n",
            "Epoch 2/10\n",
            "100/100 [==============================] - 9s 94ms/step - loss: 1.4532 - accuracy: 0.4867 - val_loss: 1.3184 - val_accuracy: 0.5372 - lr: 0.0010\n",
            "Epoch 3/10\n",
            "100/100 [==============================] - 9s 95ms/step - loss: 1.3555 - accuracy: 0.5258 - val_loss: 1.2587 - val_accuracy: 0.5599 - lr: 0.0010\n",
            "Epoch 4/10\n",
            "100/100 [==============================] - 10s 104ms/step - loss: 1.2960 - accuracy: 0.5472 - val_loss: 1.2480 - val_accuracy: 0.5669 - lr: 0.0010\n",
            "Epoch 5/10\n",
            "100/100 [==============================] - 10s 103ms/step - loss: 1.2573 - accuracy: 0.5625 - val_loss: 1.2069 - val_accuracy: 0.5774 - lr: 0.0010\n",
            "Epoch 6/10\n",
            "100/100 [==============================] - 10s 103ms/step - loss: 1.2253 - accuracy: 0.5731 - val_loss: 1.1926 - val_accuracy: 0.5788 - lr: 0.0010\n",
            "Epoch 7/10\n",
            "100/100 [==============================] - 10s 102ms/step - loss: 1.2024 - accuracy: 0.5817 - val_loss: 1.1786 - val_accuracy: 0.5862 - lr: 0.0010\n",
            "Epoch 8/10\n",
            "100/100 [==============================] - 10s 102ms/step - loss: 1.1750 - accuracy: 0.5910 - val_loss: 1.1616 - val_accuracy: 0.5904 - lr: 0.0010\n",
            "Epoch 9/10\n",
            "100/100 [==============================] - 10s 103ms/step - loss: 1.1523 - accuracy: 0.6009 - val_loss: 1.1433 - val_accuracy: 0.5971 - lr: 0.0010\n",
            "Epoch 10/10\n",
            "100/100 [==============================] - 9s 93ms/step - loss: 1.1337 - accuracy: 0.6039 - val_loss: 1.1495 - val_accuracy: 0.5976 - lr: 0.0010\n"
          ]
        },
        {
          "output_type": "execute_result",
          "data": {
            "text/plain": [
              "<keras.callbacks.History at 0x7fa4e05c8ee0>"
            ]
          },
          "metadata": {},
          "execution_count": 63
        }
      ]
    },
    {
      "cell_type": "code",
      "source": [
        "metrics = pd.DataFrame(model.history.history)"
      ],
      "metadata": {
        "id": "S25gi_jCpb-g"
      },
      "execution_count": null,
      "outputs": []
    },
    {
      "cell_type": "code",
      "source": [
        "metrics[['loss','val_loss']].plot()"
      ],
      "metadata": {
        "id": "QwpN-UZvphg_",
        "colab": {
          "base_uri": "https://localhost:8080/",
          "height": 447
        },
        "outputId": "7fb5f061-13d1-4acb-8e0d-2d74f4aabd72"
      },
      "execution_count": null,
      "outputs": [
        {
          "output_type": "execute_result",
          "data": {
            "text/plain": [
              "<Axes: >"
            ]
          },
          "metadata": {},
          "execution_count": 65
        },
        {
          "output_type": "display_data",
          "data": {
            "text/plain": [
              "<Figure size 640x480 with 1 Axes>"
            ],
            "image/png": "[encoded data removed]"
          },
          "metadata": {}
        }
      ]
    },
    {
      "cell_type": "code",
      "source": [
        "metrics[['accuracy','val_accuracy']].plot()"
      ],
      "metadata": {
        "id": "ORdFGnt_pidD",
        "colab": {
          "base_uri": "https://localhost:8080/",
          "height": 447
        },
        "outputId": "e211192e-5254-42bf-d94c-3a5de2767a5b"
      },
      "execution_count": null,
      "outputs": [
        {
          "output_type": "execute_result",
          "data": {
            "text/plain": [
              "<Axes: >"
            ]
          },
          "metadata": {},
          "execution_count": 66
        },
        {
          "output_type": "display_data",
          "data": {
            "text/plain": [
              "<Figure size 640x480 with 1 Axes>"
            ],
            "image/png": "[encoded data removed]"
          },
          "metadata": {}
        }
      ]
    },
    {
      "cell_type": "code",
      "source": [
        "x_test_predictions = np.argmax(model.predict(x_test), axis=1)"
      ],
      "metadata": {
        "id": "KGdkYIgtp6yt",
        "colab": {
          "base_uri": "https://localhost:8080/"
        },
        "outputId": "03d3588d-8142-4093-991d-68c11c50bd08"
      },
      "execution_count": null,
      "outputs": [
        {
          "output_type": "stream",
          "name": "stdout",
          "text": [
            "313/313 [==============================] - 3s 9ms/step\n"
          ]
        }
      ]
    },
    {
      "cell_type": "code",
      "source": [
        "print(confusion_matrix(y_test,x_test_predictions))"
      ],
      "metadata": {
        "id": "B_yzpVHrpiw_",
        "colab": {
          "base_uri": "https://localhost:8080/"
        },
        "outputId": "0f65ce70-fa73-45cc-80e3-ee8ced76efcd"
      },
      "execution_count": null,
      "outputs": [
        {
          "output_type": "stream",
          "name": "stdout",
          "text": [
            "[[633  33  61  18  21  12  22  25 110  65]\n",
            " [ 20 660  13  28   8  18  33  24  31 165]\n",
            " [ 51  27 434  54 122  82 125  52  22  31]\n",
            " [ 15  59  60 371  73 176 115  53  15  63]\n",
            " [ 19  16  58  52 538  42  96 123  27  29]\n",
            " [ 11  32  50 131  68 517  66  87   6  32]\n",
            " [  8  26  42  29  77  43 736  16   8  15]\n",
            " [  7  16  38  24  60  63  27 696   7  62]\n",
            " [ 75  73  18  23  19   3   9  10 691  79]\n",
            " [ 19 132   9  25   4  14  23  35  39 700]]\n"
          ]
        }
      ]
    },
    {
      "cell_type": "code",
      "source": [
        "print(classification_report(y_test,x_test_predictions))"
      ],
      "metadata": {
        "id": "xzw_Hxo-qBcR",
        "colab": {
          "base_uri": "https://localhost:8080/"
        },
        "outputId": "a0517c42-8b5b-422b-e006-61aef85f15e3"
      },
      "execution_count": null,
      "outputs": [
        {
          "output_type": "stream",
          "name": "stdout",
          "text": [
            "              precision    recall  f1-score   support\n",
            "\n",
            "           0       0.74      0.63      0.68      1000\n",
            "           1       0.61      0.66      0.64      1000\n",
            "           2       0.55      0.43      0.49      1000\n",
            "           3       0.49      0.37      0.42      1000\n",
            "           4       0.54      0.54      0.54      1000\n",
            "           5       0.53      0.52      0.52      1000\n",
            "           6       0.59      0.74      0.65      1000\n",
            "           7       0.62      0.70      0.66      1000\n",
            "           8       0.72      0.69      0.71      1000\n",
            "           9       0.56      0.70      0.62      1000\n",
            "\n",
            "    accuracy                           0.60     10000\n",
            "   macro avg       0.60      0.60      0.59     10000\n",
            "weighted avg       0.60      0.60      0.59     10000\n",
            "\n"
          ]
        }
      ]
    }
  ]
}